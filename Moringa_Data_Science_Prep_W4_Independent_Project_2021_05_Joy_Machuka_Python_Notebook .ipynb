{
  "nbformat": 4,
  "nbformat_minor": 0,
  "metadata": {
    "colab": {
      "name": "Moringa_Data_Science_Prep_W4_Independent_Project_2021_05_Joy_Machuka_Python_Notebook.ipynb",
      "provenance": [],
      "collapsed_sections": []
    },
    "kernelspec": {
      "name": "python3",
      "display_name": "Python 3"
    },
    "language_info": {
      "name": "python"
    }
  },
  "cells": [
    {
      "cell_type": "code",
      "metadata": {
        "colab": {
          "base_uri": "https://localhost:8080/",
          "height": 753
        },
        "id": "Yuwb8Wre8xFP",
        "outputId": "6be56ae0-34bd-46fb-b0e7-3f75e83f256d"
      },
      "source": [
        "import pandas as pd\n",
        "import numpy as np\n",
        "\n",
        "dataset = pd.read_csv('Autolib_dataset.csv')\n",
        "dataset.head(10)"
      ],
      "execution_count": 1,
      "outputs": [
        {
          "output_type": "execute_result",
          "data": {
            "text/html": [
              "<div>\n",
              "<style scoped>\n",
              "    .dataframe tbody tr th:only-of-type {\n",
              "        vertical-align: middle;\n",
              "    }\n",
              "\n",
              "    .dataframe tbody tr th {\n",
              "        vertical-align: top;\n",
              "    }\n",
              "\n",
              "    .dataframe thead th {\n",
              "        text-align: right;\n",
              "    }\n",
              "</style>\n",
              "<table border=\"1\" class=\"dataframe\">\n",
              "  <thead>\n",
              "    <tr style=\"text-align: right;\">\n",
              "      <th></th>\n",
              "      <th>Address</th>\n",
              "      <th>Cars</th>\n",
              "      <th>Bluecar counter</th>\n",
              "      <th>Utilib counter</th>\n",
              "      <th>Utilib 1.4 counter</th>\n",
              "      <th>Charge Slots</th>\n",
              "      <th>Charging Status</th>\n",
              "      <th>City</th>\n",
              "      <th>Displayed comment</th>\n",
              "      <th>ID</th>\n",
              "      <th>Kind</th>\n",
              "      <th>Geo point</th>\n",
              "      <th>Postal code</th>\n",
              "      <th>Public name</th>\n",
              "      <th>Rental status</th>\n",
              "      <th>Scheduled at</th>\n",
              "      <th>Slots</th>\n",
              "      <th>Station type</th>\n",
              "      <th>Status</th>\n",
              "      <th>Subscription status</th>\n",
              "      <th>year</th>\n",
              "      <th>month</th>\n",
              "      <th>day</th>\n",
              "      <th>hour</th>\n",
              "      <th>minute</th>\n",
              "    </tr>\n",
              "  </thead>\n",
              "  <tbody>\n",
              "    <tr>\n",
              "      <th>0</th>\n",
              "      <td>2 Avenue de Suffren</td>\n",
              "      <td>0</td>\n",
              "      <td>0</td>\n",
              "      <td>0</td>\n",
              "      <td>0</td>\n",
              "      <td>0</td>\n",
              "      <td>nonexistent</td>\n",
              "      <td>Paris</td>\n",
              "      <td>NaN</td>\n",
              "      <td>paris-suffren-2</td>\n",
              "      <td>STATION</td>\n",
              "      <td>48.857, 2.2917</td>\n",
              "      <td>75015</td>\n",
              "      <td>Paris/Suffren/2</td>\n",
              "      <td>operational</td>\n",
              "      <td>NaN</td>\n",
              "      <td>2</td>\n",
              "      <td>station</td>\n",
              "      <td>ok</td>\n",
              "      <td>nonexistent</td>\n",
              "      <td>2018</td>\n",
              "      <td>4</td>\n",
              "      <td>8</td>\n",
              "      <td>11</td>\n",
              "      <td>43</td>\n",
              "    </tr>\n",
              "    <tr>\n",
              "      <th>1</th>\n",
              "      <td>145 Rue Raymond Losserand</td>\n",
              "      <td>6</td>\n",
              "      <td>6</td>\n",
              "      <td>0</td>\n",
              "      <td>0</td>\n",
              "      <td>0</td>\n",
              "      <td>operational</td>\n",
              "      <td>Paris</td>\n",
              "      <td>NaN</td>\n",
              "      <td>paris-raymondlosserand-145</td>\n",
              "      <td>STATION</td>\n",
              "      <td>48.83126, 2.313088</td>\n",
              "      <td>75014</td>\n",
              "      <td>Paris/Raymond Losserand/145</td>\n",
              "      <td>operational</td>\n",
              "      <td>NaN</td>\n",
              "      <td>0</td>\n",
              "      <td>station</td>\n",
              "      <td>ok</td>\n",
              "      <td>nonexistent</td>\n",
              "      <td>2018</td>\n",
              "      <td>4</td>\n",
              "      <td>6</td>\n",
              "      <td>7</td>\n",
              "      <td>24</td>\n",
              "    </tr>\n",
              "    <tr>\n",
              "      <th>2</th>\n",
              "      <td>2 Avenue John Fitzgerald Kennedy</td>\n",
              "      <td>3</td>\n",
              "      <td>3</td>\n",
              "      <td>0</td>\n",
              "      <td>2</td>\n",
              "      <td>0</td>\n",
              "      <td>operational</td>\n",
              "      <td>Le Bourget</td>\n",
              "      <td>NaN</td>\n",
              "      <td>lebourget-johnfitzgeraldkennedy-2</td>\n",
              "      <td>STATION</td>\n",
              "      <td>48.938103, 2.4286035</td>\n",
              "      <td>93350</td>\n",
              "      <td>Le Bourget/John Fitzgerald Kennedy/2</td>\n",
              "      <td>operational</td>\n",
              "      <td>NaN</td>\n",
              "      <td>1</td>\n",
              "      <td>station</td>\n",
              "      <td>ok</td>\n",
              "      <td>nonexistent</td>\n",
              "      <td>2018</td>\n",
              "      <td>4</td>\n",
              "      <td>3</td>\n",
              "      <td>20</td>\n",
              "      <td>14</td>\n",
              "    </tr>\n",
              "    <tr>\n",
              "      <th>3</th>\n",
              "      <td>51 Rue EugÃ¨ne OudinÃ©</td>\n",
              "      <td>3</td>\n",
              "      <td>3</td>\n",
              "      <td>1</td>\n",
              "      <td>0</td>\n",
              "      <td>1</td>\n",
              "      <td>operational</td>\n",
              "      <td>Paris</td>\n",
              "      <td>NaN</td>\n",
              "      <td>paris-eugeneoudine-51</td>\n",
              "      <td>STATION</td>\n",
              "      <td>48.8250327, 2.3725162</td>\n",
              "      <td>75013</td>\n",
              "      <td>Paris/EugÃ¨ne OudinÃ©/51</td>\n",
              "      <td>operational</td>\n",
              "      <td>NaN</td>\n",
              "      <td>2</td>\n",
              "      <td>station</td>\n",
              "      <td>ok</td>\n",
              "      <td>nonexistent</td>\n",
              "      <td>2018</td>\n",
              "      <td>4</td>\n",
              "      <td>4</td>\n",
              "      <td>4</td>\n",
              "      <td>37</td>\n",
              "    </tr>\n",
              "    <tr>\n",
              "      <th>4</th>\n",
              "      <td>6 avenue de la Porte de Champerret</td>\n",
              "      <td>3</td>\n",
              "      <td>3</td>\n",
              "      <td>0</td>\n",
              "      <td>0</td>\n",
              "      <td>0</td>\n",
              "      <td>nonexistent</td>\n",
              "      <td>Paris</td>\n",
              "      <td>NaN</td>\n",
              "      <td>paris-portedechamperret-6</td>\n",
              "      <td>PARKING</td>\n",
              "      <td>48.8862632, 2.2874511</td>\n",
              "      <td>75017</td>\n",
              "      <td>Paris/Porte de Champerret/6</td>\n",
              "      <td>operational</td>\n",
              "      <td>NaN</td>\n",
              "      <td>3</td>\n",
              "      <td>station</td>\n",
              "      <td>ok</td>\n",
              "      <td>nonexistent</td>\n",
              "      <td>2018</td>\n",
              "      <td>4</td>\n",
              "      <td>8</td>\n",
              "      <td>17</td>\n",
              "      <td>23</td>\n",
              "    </tr>\n",
              "    <tr>\n",
              "      <th>5</th>\n",
              "      <td>8 Boulevard Voltaire</td>\n",
              "      <td>0</td>\n",
              "      <td>0</td>\n",
              "      <td>0</td>\n",
              "      <td>0</td>\n",
              "      <td>0</td>\n",
              "      <td>nonexistent</td>\n",
              "      <td>Paris</td>\n",
              "      <td>NaN</td>\n",
              "      <td>paris-voltaire-8</td>\n",
              "      <td>STATION</td>\n",
              "      <td>48.8657658, 2.3664376</td>\n",
              "      <td>75011</td>\n",
              "      <td>Paris/Voltaire/8</td>\n",
              "      <td>operational</td>\n",
              "      <td>NaN</td>\n",
              "      <td>4</td>\n",
              "      <td>station</td>\n",
              "      <td>ok</td>\n",
              "      <td>nonexistent</td>\n",
              "      <td>2018</td>\n",
              "      <td>4</td>\n",
              "      <td>6</td>\n",
              "      <td>7</td>\n",
              "      <td>2</td>\n",
              "    </tr>\n",
              "    <tr>\n",
              "      <th>6</th>\n",
              "      <td>37 rue Leblanc</td>\n",
              "      <td>0</td>\n",
              "      <td>0</td>\n",
              "      <td>0</td>\n",
              "      <td>0</td>\n",
              "      <td>0</td>\n",
              "      <td>nonexistent</td>\n",
              "      <td>Paris</td>\n",
              "      <td>Station en parking (niv -1), accÃ¨s 37 rue Leb...</td>\n",
              "      <td>paris-citroencevennes-parking</td>\n",
              "      <td>PARKING</td>\n",
              "      <td>48.83874, 2.27641</td>\n",
              "      <td>75015</td>\n",
              "      <td>Paris/CitroÃ«n CÃ©vennes/Parking</td>\n",
              "      <td>broken</td>\n",
              "      <td>NaN</td>\n",
              "      <td>0</td>\n",
              "      <td>station</td>\n",
              "      <td>closed</td>\n",
              "      <td>nonexistent</td>\n",
              "      <td>2018</td>\n",
              "      <td>4</td>\n",
              "      <td>8</td>\n",
              "      <td>18</td>\n",
              "      <td>20</td>\n",
              "    </tr>\n",
              "    <tr>\n",
              "      <th>7</th>\n",
              "      <td>17 Rue des Luaps ProlongÃ©e</td>\n",
              "      <td>3</td>\n",
              "      <td>3</td>\n",
              "      <td>1</td>\n",
              "      <td>0</td>\n",
              "      <td>0</td>\n",
              "      <td>nonexistent</td>\n",
              "      <td>Nanterre</td>\n",
              "      <td>NaN</td>\n",
              "      <td>nanterre-luaps-17</td>\n",
              "      <td>STATION</td>\n",
              "      <td>48.88069, 2.21063</td>\n",
              "      <td>92000</td>\n",
              "      <td>Nanterre/Luaps/17</td>\n",
              "      <td>operational</td>\n",
              "      <td>NaN</td>\n",
              "      <td>0</td>\n",
              "      <td>station</td>\n",
              "      <td>ok</td>\n",
              "      <td>nonexistent</td>\n",
              "      <td>2018</td>\n",
              "      <td>4</td>\n",
              "      <td>4</td>\n",
              "      <td>22</td>\n",
              "      <td>13</td>\n",
              "    </tr>\n",
              "    <tr>\n",
              "      <th>8</th>\n",
              "      <td>34 avenue Jean Moulin</td>\n",
              "      <td>1</td>\n",
              "      <td>1</td>\n",
              "      <td>0</td>\n",
              "      <td>0</td>\n",
              "      <td>0</td>\n",
              "      <td>nonexistent</td>\n",
              "      <td>Paris</td>\n",
              "      <td>NaN</td>\n",
              "      <td>paris-jeanmoulin-34</td>\n",
              "      <td>STATION</td>\n",
              "      <td>48.8266807, 2.3237355</td>\n",
              "      <td>75014</td>\n",
              "      <td>Paris/Jean Moulin/34</td>\n",
              "      <td>operational</td>\n",
              "      <td>NaN</td>\n",
              "      <td>4</td>\n",
              "      <td>station</td>\n",
              "      <td>ok</td>\n",
              "      <td>nonexistent</td>\n",
              "      <td>2018</td>\n",
              "      <td>4</td>\n",
              "      <td>2</td>\n",
              "      <td>22</td>\n",
              "      <td>58</td>\n",
              "    </tr>\n",
              "    <tr>\n",
              "      <th>9</th>\n",
              "      <td>41 boulevard de Rochechouart</td>\n",
              "      <td>6</td>\n",
              "      <td>6</td>\n",
              "      <td>0</td>\n",
              "      <td>0</td>\n",
              "      <td>0</td>\n",
              "      <td>nonexistent</td>\n",
              "      <td>Paris</td>\n",
              "      <td>NaN</td>\n",
              "      <td>paris-anvers-parking</td>\n",
              "      <td>PARKING</td>\n",
              "      <td>48.88267, 2.34405</td>\n",
              "      <td>75009</td>\n",
              "      <td>Paris/Anvers/Parking</td>\n",
              "      <td>operational</td>\n",
              "      <td>NaN</td>\n",
              "      <td>0</td>\n",
              "      <td>station</td>\n",
              "      <td>ok</td>\n",
              "      <td>nonexistent</td>\n",
              "      <td>2018</td>\n",
              "      <td>4</td>\n",
              "      <td>4</td>\n",
              "      <td>15</td>\n",
              "      <td>2</td>\n",
              "    </tr>\n",
              "  </tbody>\n",
              "</table>\n",
              "</div>"
            ],
            "text/plain": [
              "                              Address  Cars  Bluecar counter  ...  day  hour  minute\n",
              "0                 2 Avenue de Suffren     0                0  ...    8    11      43\n",
              "1           145 Rue Raymond Losserand     6                6  ...    6     7      24\n",
              "2    2 Avenue John Fitzgerald Kennedy     3                3  ...    3    20      14\n",
              "3              51 Rue EugÃ¨ne OudinÃ©     3                3  ...    4     4      37\n",
              "4  6 avenue de la Porte de Champerret     3                3  ...    8    17      23\n",
              "5                8 Boulevard Voltaire     0                0  ...    6     7       2\n",
              "6                      37 rue Leblanc     0                0  ...    8    18      20\n",
              "7         17 Rue des Luaps ProlongÃ©e     3                3  ...    4    22      13\n",
              "8               34 avenue Jean Moulin     1                1  ...    2    22      58\n",
              "9        41 boulevard de Rochechouart     6                6  ...    4    15       2\n",
              "\n",
              "[10 rows x 25 columns]"
            ]
          },
          "metadata": {
            "tags": []
          },
          "execution_count": 1
        }
      ]
    },
    {
      "cell_type": "code",
      "metadata": {
        "colab": {
          "base_uri": "https://localhost:8080/"
        },
        "id": "ItBwniILIboF",
        "outputId": "6282d15d-7738-4535-d882-4bb02e6e2939"
      },
      "source": [
        "print(dataset.info())\n",
        "print(dataset.isnull().sum().sum())"
      ],
      "execution_count": 2,
      "outputs": [
        {
          "output_type": "stream",
          "text": [
            "<class 'pandas.core.frame.DataFrame'>\n",
            "RangeIndex: 5000 entries, 0 to 4999\n",
            "Data columns (total 25 columns):\n",
            " #   Column               Non-Null Count  Dtype \n",
            "---  ------               --------------  ----- \n",
            " 0   Address              5000 non-null   object\n",
            " 1   Cars                 5000 non-null   int64 \n",
            " 2   Bluecar counter      5000 non-null   int64 \n",
            " 3   Utilib counter       5000 non-null   int64 \n",
            " 4   Utilib 1.4 counter   5000 non-null   int64 \n",
            " 5   Charge Slots         5000 non-null   int64 \n",
            " 6   Charging Status      5000 non-null   object\n",
            " 7   City                 5000 non-null   object\n",
            " 8   Displayed comment    111 non-null    object\n",
            " 9   ID                   5000 non-null   object\n",
            " 10  Kind                 5000 non-null   object\n",
            " 11  Geo point            5000 non-null   object\n",
            " 12  Postal code          5000 non-null   int64 \n",
            " 13  Public name          5000 non-null   object\n",
            " 14  Rental status        5000 non-null   object\n",
            " 15  Scheduled at         47 non-null     object\n",
            " 16  Slots                5000 non-null   int64 \n",
            " 17  Station type         5000 non-null   object\n",
            " 18  Status               5000 non-null   object\n",
            " 19  Subscription status  5000 non-null   object\n",
            " 20  year                 5000 non-null   int64 \n",
            " 21  month                5000 non-null   int64 \n",
            " 22  day                  5000 non-null   int64 \n",
            " 23  hour                 5000 non-null   int64 \n",
            " 24  minute               5000 non-null   int64 \n",
            "dtypes: int64(12), object(13)\n",
            "memory usage: 976.7+ KB\n",
            "None\n",
            "9842\n"
          ],
          "name": "stdout"
        }
      ]
    },
    {
      "cell_type": "code",
      "metadata": {
        "colab": {
          "base_uri": "https://localhost:8080/"
        },
        "id": "_RT2XKxlItUw",
        "outputId": "92aaf57e-199f-4cb7-aea5-07fe4266b852"
      },
      "source": [
        "dataset.columns = dataset.columns.str.strip().str.lower().str.replace(' ', '_')\n",
        "dataset.info()"
      ],
      "execution_count": 3,
      "outputs": [
        {
          "output_type": "stream",
          "text": [
            "<class 'pandas.core.frame.DataFrame'>\n",
            "RangeIndex: 5000 entries, 0 to 4999\n",
            "Data columns (total 25 columns):\n",
            " #   Column               Non-Null Count  Dtype \n",
            "---  ------               --------------  ----- \n",
            " 0   address              5000 non-null   object\n",
            " 1   cars                 5000 non-null   int64 \n",
            " 2   bluecar_counter      5000 non-null   int64 \n",
            " 3   utilib_counter       5000 non-null   int64 \n",
            " 4   utilib_1.4_counter   5000 non-null   int64 \n",
            " 5   charge_slots         5000 non-null   int64 \n",
            " 6   charging_status      5000 non-null   object\n",
            " 7   city                 5000 non-null   object\n",
            " 8   displayed_comment    111 non-null    object\n",
            " 9   id                   5000 non-null   object\n",
            " 10  kind                 5000 non-null   object\n",
            " 11  geo_point            5000 non-null   object\n",
            " 12  postal_code          5000 non-null   int64 \n",
            " 13  public_name          5000 non-null   object\n",
            " 14  rental_status        5000 non-null   object\n",
            " 15  scheduled_at         47 non-null     object\n",
            " 16  slots                5000 non-null   int64 \n",
            " 17  station_type         5000 non-null   object\n",
            " 18  status               5000 non-null   object\n",
            " 19  subscription_status  5000 non-null   object\n",
            " 20  year                 5000 non-null   int64 \n",
            " 21  month                5000 non-null   int64 \n",
            " 22  day                  5000 non-null   int64 \n",
            " 23  hour                 5000 non-null   int64 \n",
            " 24  minute               5000 non-null   int64 \n",
            "dtypes: int64(12), object(13)\n",
            "memory usage: 976.7+ KB\n"
          ],
          "name": "stdout"
        }
      ]
    },
    {
      "cell_type": "code",
      "metadata": {
        "colab": {
          "base_uri": "https://localhost:8080/"
        },
        "id": "4cTrLjjFY-3-",
        "outputId": "e524e8d2-3244-4005-bbc1-8ec0ff5e41b7"
      },
      "source": [
        "dataset.drop('geo_point', inplace=True, axis=1)\n",
        "dataset.info()"
      ],
      "execution_count": 4,
      "outputs": [
        {
          "output_type": "stream",
          "text": [
            "<class 'pandas.core.frame.DataFrame'>\n",
            "RangeIndex: 5000 entries, 0 to 4999\n",
            "Data columns (total 24 columns):\n",
            " #   Column               Non-Null Count  Dtype \n",
            "---  ------               --------------  ----- \n",
            " 0   address              5000 non-null   object\n",
            " 1   cars                 5000 non-null   int64 \n",
            " 2   bluecar_counter      5000 non-null   int64 \n",
            " 3   utilib_counter       5000 non-null   int64 \n",
            " 4   utilib_1.4_counter   5000 non-null   int64 \n",
            " 5   charge_slots         5000 non-null   int64 \n",
            " 6   charging_status      5000 non-null   object\n",
            " 7   city                 5000 non-null   object\n",
            " 8   displayed_comment    111 non-null    object\n",
            " 9   id                   5000 non-null   object\n",
            " 10  kind                 5000 non-null   object\n",
            " 11  postal_code          5000 non-null   int64 \n",
            " 12  public_name          5000 non-null   object\n",
            " 13  rental_status        5000 non-null   object\n",
            " 14  scheduled_at         47 non-null     object\n",
            " 15  slots                5000 non-null   int64 \n",
            " 16  station_type         5000 non-null   object\n",
            " 17  status               5000 non-null   object\n",
            " 18  subscription_status  5000 non-null   object\n",
            " 19  year                 5000 non-null   int64 \n",
            " 20  month                5000 non-null   int64 \n",
            " 21  day                  5000 non-null   int64 \n",
            " 22  hour                 5000 non-null   int64 \n",
            " 23  minute               5000 non-null   int64 \n",
            "dtypes: int64(12), object(12)\n",
            "memory usage: 937.6+ KB\n"
          ],
          "name": "stdout"
        }
      ]
    },
    {
      "cell_type": "code",
      "metadata": {
        "colab": {
          "base_uri": "https://localhost:8080/"
        },
        "id": "Pc2lp4gcJiNT",
        "outputId": "953acb3e-36c3-490b-c093-3b100d7fad15"
      },
      "source": [
        "dataset = dataset.drop_duplicates()\n",
        "dataset = dataset.dropna(how=\"all\")\n",
        "print(dataset.isnull().sum().sum())\n"
      ],
      "execution_count": 5,
      "outputs": [
        {
          "output_type": "stream",
          "text": [
            "9842\n"
          ],
          "name": "stdout"
        }
      ]
    },
    {
      "cell_type": "code",
      "metadata": {
        "colab": {
          "base_uri": "https://localhost:8080/"
        },
        "id": "l6uulDgDLLSz",
        "outputId": "579b5517-d6e5-48c8-8749-223d623c619a"
      },
      "source": [
        "#Number of cars available at the station - redundant with Bluecar counter, always the same value\n",
        "\n",
        "(dataset['cars'] == dataset['bluecar_counter']).unique()"
      ],
      "execution_count": 6,
      "outputs": [
        {
          "output_type": "execute_result",
          "data": {
            "text/plain": [
              "array([ True])"
            ]
          },
          "metadata": {
            "tags": []
          },
          "execution_count": 6
        }
      ]
    },
    {
      "cell_type": "code",
      "metadata": {
        "colab": {
          "base_uri": "https://localhost:8080/"
        },
        "id": "_UQm7-CiR2Hf",
        "outputId": "25a17821-1f5d-491c-8a2e-f9c70332de46"
      },
      "source": [
        "#Whether the station is operational for recharging. Mainly \"nonexistent\", \"operational\" or \"broken\":\n",
        "#charge slots can only be greater than 0 when \"operational\"; \n",
        "#slots and vehicles can be available in all situations (except future stations that have 0 resources\n",
        "\n",
        "conditions = [(dataset['charging_status'] == 'future') & (dataset['bluecar_counter']== 0)]\n",
        "#define choices\n",
        "choices = [True]\n",
        "#column  to display results of comparison\n",
        "dataset['Future'] = np.select(conditions, choices, default='False')\n",
        "#view the created column results\n",
        "print(dataset['Future'].unique())\n",
        "\n",
        "\n",
        "\n",
        "#df[['Charging Status','Charge Slots']]\n",
        "conditions = [(dataset['charging_status'] == 'future') & (dataset['charge_slots'] >= 0)]\n",
        "choices = [True]\n",
        "#new column\n",
        "dataset['charge_status_slots'] = np.select(conditions, choices, default='False')\n",
        "\n",
        "print(dataset['charge_status_slots'].unique())"
      ],
      "execution_count": 7,
      "outputs": [
        {
          "output_type": "stream",
          "text": [
            "['False']\n",
            "['False']\n"
          ],
          "name": "stdout"
        }
      ]
    },
    {
      "cell_type": "code",
      "metadata": {
        "colab": {
          "base_uri": "https://localhost:8080/"
        },
        "id": "f8FTsU9lUcMS",
        "outputId": "dcb6c01a-c8db-4ad5-fed7-045e99d14427"
      },
      "source": [
        "dataset['charging_status'].unique()\n",
        "#realized charging status column has no value future"
      ],
      "execution_count": 8,
      "outputs": [
        {
          "output_type": "execute_result",
          "data": {
            "text/plain": [
              "array(['nonexistent', 'operational', 'broken'], dtype=object)"
            ]
          },
          "metadata": {
            "tags": []
          },
          "execution_count": 8
        }
      ]
    },
    {
      "cell_type": "code",
      "metadata": {
        "colab": {
          "base_uri": "https://localhost:8080/"
        },
        "id": "xjOpBMFhbxwj",
        "outputId": "3345f491-58b8-4f61-aa56-64e24d49c44d"
      },
      "source": [
        "print(dataset.isnull().any())"
      ],
      "execution_count": 9,
      "outputs": [
        {
          "output_type": "stream",
          "text": [
            "address                False\n",
            "cars                   False\n",
            "bluecar_counter        False\n",
            "utilib_counter         False\n",
            "utilib_1.4_counter     False\n",
            "charge_slots           False\n",
            "charging_status        False\n",
            "city                   False\n",
            "displayed_comment       True\n",
            "id                     False\n",
            "kind                   False\n",
            "postal_code            False\n",
            "public_name            False\n",
            "rental_status          False\n",
            "scheduled_at            True\n",
            "slots                  False\n",
            "station_type           False\n",
            "status                 False\n",
            "subscription_status    False\n",
            "year                   False\n",
            "month                  False\n",
            "day                    False\n",
            "hour                   False\n",
            "minute                 False\n",
            "Future                 False\n",
            "charge_status_slots    False\n",
            "dtype: bool\n"
          ],
          "name": "stdout"
        }
      ]
    },
    {
      "cell_type": "code",
      "metadata": {
        "id": "Ghc23HlbfkEb"
      },
      "source": [
        "dataset.drop('displayed_comment', inplace=True, axis=1)"
      ],
      "execution_count": 10,
      "outputs": []
    },
    {
      "cell_type": "code",
      "metadata": {
        "id": "yqy8kvP3gHTw"
      },
      "source": [
        "dataset.drop('scheduled_at', inplace=True, axis=1)"
      ],
      "execution_count": 11,
      "outputs": []
    },
    {
      "cell_type": "code",
      "metadata": {
        "colab": {
          "base_uri": "https://localhost:8080/"
        },
        "id": "MulX9SKsfzQO",
        "outputId": "cb9216e8-1c74-4557-92ce-cc7fb35787cc"
      },
      "source": [
        "print(dataset.isnull().any())\n",
        "print(dataset.isnull().sum().sum())"
      ],
      "execution_count": 12,
      "outputs": [
        {
          "output_type": "stream",
          "text": [
            "address                False\n",
            "cars                   False\n",
            "bluecar_counter        False\n",
            "utilib_counter         False\n",
            "utilib_1.4_counter     False\n",
            "charge_slots           False\n",
            "charging_status        False\n",
            "city                   False\n",
            "id                     False\n",
            "kind                   False\n",
            "postal_code            False\n",
            "public_name            False\n",
            "rental_status          False\n",
            "slots                  False\n",
            "station_type           False\n",
            "status                 False\n",
            "subscription_status    False\n",
            "year                   False\n",
            "month                  False\n",
            "day                    False\n",
            "hour                   False\n",
            "minute                 False\n",
            "Future                 False\n",
            "charge_status_slots    False\n",
            "dtype: bool\n",
            "0\n"
          ],
          "name": "stdout"
        }
      ]
    },
    {
      "cell_type": "code",
      "metadata": {
        "colab": {
          "base_uri": "https://localhost:8080/"
        },
        "id": "-TGd4xvigY_T",
        "outputId": "5abfac2b-355b-40f2-fdc4-8b4ed6e3d125"
      },
      "source": [
        "#Identify the most popular hour \n",
        "#of the day for picking up a shared electric car (Bluecar) in the city of Paris over the month of April 2018.\n",
        "pop_hour = dataset[(dataset['city']=='Paris')&(dataset['month']== 4) & (dataset['year'] == 2018)&(dataset['bluecar_counter'] > 0)]['hour'].value_counts().max()\n",
        "dataset.loc[pop_hour]['hour']\n",
        "\n",
        "#6 is the most popular hour"
      ],
      "execution_count": 13,
      "outputs": [
        {
          "output_type": "execute_result",
          "data": {
            "text/plain": [
              "6"
            ]
          },
          "metadata": {
            "tags": []
          },
          "execution_count": 13
        }
      ]
    },
    {
      "cell_type": "code",
      "metadata": {
        "colab": {
          "base_uri": "https://localhost:8080/"
        },
        "id": "zU3aImWXs4cj",
        "outputId": "6092c1bb-f4e4-46e0-d017-28582eef7538"
      },
      "source": [
        "#What is the most popular hour for returning cars?\n",
        "print(dataset['rental_status'].unique())\n",
        "#where rental status is nonexistent depicts car is returned\n",
        "dataset.loc[dataset['rental_status']== 'nonexistent'].hour.max()"
      ],
      "execution_count": 14,
      "outputs": [
        {
          "output_type": "stream",
          "text": [
            "['operational' 'broken' 'future' 'nonexistent']\n"
          ],
          "name": "stdout"
        },
        {
          "output_type": "execute_result",
          "data": {
            "text/plain": [
              "13"
            ]
          },
          "metadata": {
            "tags": []
          },
          "execution_count": 14
        }
      ]
    },
    {
      "cell_type": "code",
      "metadata": {
        "colab": {
          "base_uri": "https://localhost:8080/",
          "height": 35
        },
        "id": "Bc6Fs6wEMLrW",
        "outputId": "bf4ff026-51ab-4f30-9754-fd61966f0333"
      },
      "source": [
        "#Most popular station overal\n",
        "dataset['public_name'].max()"
      ],
      "execution_count": 15,
      "outputs": [
        {
          "output_type": "execute_result",
          "data": {
            "application/vnd.google.colaboratory.intrinsic+json": {
              "type": "string"
            },
            "text/plain": [
              "'Ã\\x89pinay-sur-Seine/Foch/53'"
            ]
          },
          "metadata": {
            "tags": []
          },
          "execution_count": 15
        }
      ]
    },
    {
      "cell_type": "code",
      "metadata": {
        "colab": {
          "base_uri": "https://localhost:8080/",
          "height": 35
        },
        "id": "u67HljFNMqZY",
        "outputId": "003145cb-2ee1-4cbf-ce0b-2345e6a4c863"
      },
      "source": [
        "#What station is the most popular At the most popular picking hour\n",
        "df =dataset.loc[dataset['rental_status']=='operational']['hour'].value_counts().max()\n",
        "dataset.loc[df]['public_name']"
      ],
      "execution_count": 16,
      "outputs": [
        {
          "output_type": "execute_result",
          "data": {
            "application/vnd.google.colaboratory.intrinsic+json": {
              "type": "string"
            },
            "text/plain": [
              "'Paris/RÃ©aumur/38'"
            ]
          },
          "metadata": {
            "tags": []
          },
          "execution_count": 16
        }
      ]
    },
    {
      "cell_type": "code",
      "metadata": {
        "colab": {
          "base_uri": "https://localhost:8080/"
        },
        "id": "JXty0sbyQhzi",
        "outputId": "6e9658da-4bb6-47dc-ab2b-c123c50bb4be"
      },
      "source": [
        "#What postal code is the most popular for picking up Blue cars?\n",
        "#overally\n",
        "df2 =dataset.loc[dataset['rental_status']=='operational']['bluecar_counter'].value_counts().max()\n",
        "dataset.loc[df2]['postal_code']"
      ],
      "execution_count": 17,
      "outputs": [
        {
          "output_type": "execute_result",
          "data": {
            "text/plain": [
              "92140"
            ]
          },
          "metadata": {
            "tags": []
          },
          "execution_count": 17
        }
      ]
    },
    {
      "cell_type": "code",
      "metadata": {
        "colab": {
          "base_uri": "https://localhost:8080/"
        },
        "id": "rXgnIMeKQ_Wr",
        "outputId": "4ae33cbc-ce62-4fe6-f898-4ec25c65c82c"
      },
      "source": [
        "#Does the most popular station belong to that postal code?\n",
        "dataset.loc[df2]\n",
        "#Our answer is No"
      ],
      "execution_count": 18,
      "outputs": [
        {
          "output_type": "execute_result",
          "data": {
            "text/plain": [
              "address                  1 Place Ferrari\n",
              "cars                                   2\n",
              "bluecar_counter                        2\n",
              "utilib_counter                         0\n",
              "utilib_1.4_counter                     0\n",
              "charge_slots                           0\n",
              "charging_status              nonexistent\n",
              "city                             Clamart\n",
              "id                     clamart-ferrari-1\n",
              "kind                             STATION\n",
              "postal_code                        92140\n",
              "public_name            Clamart/Ferrari/1\n",
              "rental_status                operational\n",
              "slots                                  1\n",
              "station_type                     station\n",
              "status                                ok\n",
              "subscription_status          nonexistent\n",
              "year                                2018\n",
              "month                                  4\n",
              "day                                    6\n",
              "hour                                  18\n",
              "minute                                58\n",
              "Future                             False\n",
              "charge_status_slots                False\n",
              "Name: 1065, dtype: object"
            ]
          },
          "metadata": {
            "tags": []
          },
          "execution_count": 18
        }
      ]
    },
    {
      "cell_type": "code",
      "metadata": {
        "id": "5KfOI-O3RmOE"
      },
      "source": [
        ""
      ],
      "execution_count": 18,
      "outputs": []
    }
  ]
}